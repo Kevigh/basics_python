{
 "cells": [
  {
   "cell_type": "markdown",
   "id": "b1465630",
   "metadata": {},
   "source": [
    "**Operations**"
   ]
  },
  {
   "cell_type": "code",
   "execution_count": 1,
   "id": "ca89783a",
   "metadata": {},
   "outputs": [
    {
     "data": {
      "text/plain": [
       "7"
      ]
     },
     "execution_count": 1,
     "metadata": {},
     "output_type": "execute_result"
    }
   ],
   "source": [
    "5 + 2"
   ]
  },
  {
   "cell_type": "code",
   "execution_count": 2,
   "id": "685e4abb",
   "metadata": {},
   "outputs": [
    {
     "data": {
      "text/plain": [
       "5"
      ]
     },
     "execution_count": 2,
     "metadata": {},
     "output_type": "execute_result"
    }
   ],
   "source": [
    "7 - 2"
   ]
  },
  {
   "cell_type": "code",
   "execution_count": 3,
   "id": "cdc7e99d",
   "metadata": {},
   "outputs": [
    {
     "data": {
      "text/plain": [
       "10"
      ]
     },
     "execution_count": 3,
     "metadata": {},
     "output_type": "execute_result"
    }
   ],
   "source": [
    "5 * 2"
   ]
  },
  {
   "cell_type": "code",
   "execution_count": 8,
   "id": "19051744",
   "metadata": {},
   "outputs": [
    {
     "data": {
      "text/plain": [
       "2.5"
      ]
     },
     "execution_count": 8,
     "metadata": {},
     "output_type": "execute_result"
    }
   ],
   "source": [
    "5 / 2"
   ]
  },
  {
   "cell_type": "code",
   "execution_count": 19,
   "id": "af209eb4",
   "metadata": {},
   "outputs": [
    {
     "data": {
      "text/plain": [
       "0"
      ]
     },
     "execution_count": 19,
     "metadata": {},
     "output_type": "execute_result"
    }
   ],
   "source": [
    "8 % 4"
   ]
  },
  {
   "cell_type": "code",
   "execution_count": 20,
   "id": "d82200f3",
   "metadata": {},
   "outputs": [
    {
     "data": {
      "text/plain": [
       "25"
      ]
     },
     "execution_count": 20,
     "metadata": {},
     "output_type": "execute_result"
    }
   ],
   "source": [
    "5 ** 2"
   ]
  },
  {
   "cell_type": "code",
   "execution_count": 24,
   "id": "147141fb",
   "metadata": {},
   "outputs": [
    {
     "data": {
      "text/plain": [
       "1.0"
      ]
     },
     "execution_count": 24,
     "metadata": {},
     "output_type": "execute_result"
    }
   ],
   "source": [
    "(2 + 2) ** 2 / 16"
   ]
  },
  {
   "cell_type": "markdown",
   "id": "255b76ba",
   "metadata": {},
   "source": [
    "**Variables**"
   ]
  },
  {
   "cell_type": "code",
   "execution_count": 25,
   "id": "a680589b",
   "metadata": {},
   "outputs": [
    {
     "name": "stdout",
     "output_type": "stream",
     "text": [
      "100\n"
     ]
    }
   ],
   "source": [
    "x = 10\n",
    "\n",
    "print(x ** 2)"
   ]
  },
  {
   "cell_type": "code",
   "execution_count": 28,
   "id": "2c2fabee",
   "metadata": {},
   "outputs": [
    {
     "name": "stdout",
     "output_type": "stream",
     "text": [
      "cat\n"
     ]
    }
   ],
   "source": [
    "x = 'cat'\n",
    "\n",
    "print(x)"
   ]
  },
  {
   "cell_type": "markdown",
   "id": "4bc4a12c",
   "metadata": {},
   "source": [
    "If I want to insert something inside of 'cat' **.format()**"
   ]
  },
  {
   "cell_type": "code",
   "execution_count": 30,
   "id": "7f434de3",
   "metadata": {},
   "outputs": [
    {
     "name": "stdout",
     "output_type": "stream",
     "text": [
      "cats\n"
     ]
    }
   ],
   "source": [
    "x = 'cat{}'.format('s')\n",
    "\n",
    "print(x)"
   ]
  },
  {
   "cell_type": "code",
   "execution_count": 39,
   "id": "6ad38a21",
   "metadata": {
    "scrolled": true
   },
   "outputs": [
    {
     "name": "stdout",
     "output_type": "stream",
     "text": [
      "I have 12 cats\n"
     ]
    }
   ],
   "source": [
    "cats = 12.2565123516212\n",
    "\n",
    "x = 'I have {:.0f} cats'.format(cats)\n",
    "\n",
    "print(x)"
   ]
  },
  {
   "cell_type": "markdown",
   "id": "2c04fab4",
   "metadata": {},
   "source": [
    "**Lists, Tuples, Dictionaries, Arrays**"
   ]
  },
  {
   "cell_type": "markdown",
   "id": "fefc1a06",
   "metadata": {},
   "source": [
    "*Lists*"
   ]
  },
  {
   "cell_type": "code",
   "execution_count": 110,
   "id": "456b5a72",
   "metadata": {},
   "outputs": [
    {
     "name": "stdout",
     "output_type": "stream",
     "text": [
      "[1, 2, 3, 20, 'cat', [1, 2, 'cats']]\n"
     ]
    }
   ],
   "source": [
    "x = [1, 2, 3, 20, 'cat', [1, 2, 'cats']]\n",
    "y = ['dogs', 12]\n",
    "\n",
    "print(x)"
   ]
  },
  {
   "cell_type": "code",
   "execution_count": 111,
   "id": "2cd64a7c",
   "metadata": {},
   "outputs": [
    {
     "name": "stdout",
     "output_type": "stream",
     "text": [
      "[1, 2, 3, 20, 'cat', [1, 2, 'cats'], 1, 2, 3, 20, 'cat', [1, 2, 'cats']]\n",
      "[1, 2, 3, 20, 'cat', [1, 2, 'cats'], 'dogs', 12]\n",
      "[1, 2, 3, 20, 'cat', [1, 2, 'cats'], 55]\n"
     ]
    }
   ],
   "source": [
    "print(x*2)\n",
    "print(x+y)\n",
    "\n",
    "x.append(55)\n",
    "\n",
    "print(x)"
   ]
  },
  {
   "cell_type": "code",
   "execution_count": 70,
   "id": "85a012b6",
   "metadata": {
    "scrolled": true
   },
   "outputs": [
    {
     "name": "stdout",
     "output_type": "stream",
     "text": [
      "Before:  cats\n",
      "After:  cat\n"
     ]
    }
   ],
   "source": [
    "print('Before: ', x[5][2])\n",
    "\n",
    "x[5][2] = 'cat'\n",
    "\n",
    "print('After: ', x[5][2])"
   ]
  },
  {
   "cell_type": "markdown",
   "id": "72f17155",
   "metadata": {},
   "source": [
    "*Tuples*"
   ]
  },
  {
   "cell_type": "code",
   "execution_count": 71,
   "id": "548c0dfb",
   "metadata": {},
   "outputs": [
    {
     "name": "stdout",
     "output_type": "stream",
     "text": [
      "(1, 2, 3, 'cats', [1, 2])\n"
     ]
    }
   ],
   "source": [
    "#tuple is immutable\n",
    "\n",
    "x = (1, 2, 3, 'cats', [1, 2])\n",
    "\n",
    "print(x)"
   ]
  },
  {
   "cell_type": "code",
   "execution_count": 77,
   "id": "9fbf4752",
   "metadata": {},
   "outputs": [
    {
     "name": "stdout",
     "output_type": "stream",
     "text": [
      "[1, 2]\n"
     ]
    },
    {
     "ename": "TypeError",
     "evalue": "'tuple' object does not support item assignment",
     "output_type": "error",
     "traceback": [
      "\u001b[0;31m---------------------------------------------------------------------------\u001b[0m",
      "\u001b[0;31mTypeError\u001b[0m                                 Traceback (most recent call last)",
      "Cell \u001b[0;32mIn[77], line 3\u001b[0m\n\u001b[1;32m      1\u001b[0m \u001b[38;5;28mprint\u001b[39m(x[\u001b[38;5;241m4\u001b[39m])\n\u001b[0;32m----> 3\u001b[0m \u001b[43mx\u001b[49m\u001b[43m[\u001b[49m\u001b[38;5;241;43m0\u001b[39;49m\u001b[43m]\u001b[49m \u001b[38;5;241m=\u001b[39m \u001b[38;5;241m1\u001b[39m \u001b[38;5;66;03m#you can't make this\u001b[39;00m\n",
      "\u001b[0;31mTypeError\u001b[0m: 'tuple' object does not support item assignment"
     ]
    }
   ],
   "source": [
    "print(x[4])\n",
    "\n",
    "x[0] = 1 #you can't make this"
   ]
  },
  {
   "cell_type": "markdown",
   "id": "636e5274",
   "metadata": {},
   "source": [
    "*Dictionary*"
   ]
  },
  {
   "cell_type": "code",
   "execution_count": 87,
   "id": "a9c13e2e",
   "metadata": {},
   "outputs": [
    {
     "name": "stdout",
     "output_type": "stream",
     "text": [
      "happy\n",
      "sad\n",
      "Prime\n",
      "6\n",
      "20\n"
     ]
    }
   ],
   "source": [
    "d = {'cat':'happy', 'dog':'sad', 'Kevin':20, 17:'Prime', 6:3 + 3}\n",
    "\n",
    "print(d['cat'])\n",
    "print(d['dog'])\n",
    "print(d[17])\n",
    "print(d[6])\n",
    "print(d['Kevin'])"
   ]
  },
  {
   "cell_type": "markdown",
   "id": "8911d74c",
   "metadata": {},
   "source": [
    "*Array*"
   ]
  },
  {
   "cell_type": "code",
   "execution_count": 117,
   "id": "ed5d7638",
   "metadata": {},
   "outputs": [
    {
     "name": "stdout",
     "output_type": "stream",
     "text": [
      "[ 1  2  3 40]\n",
      "[ 2  4  6 80]\n",
      "[    1     8    27 64000]\n",
      "[1.         0.5        0.33333333 0.025     ]\n"
     ]
    }
   ],
   "source": [
    "import numpy as np\n",
    "\n",
    "x = np.array([1, 2, 3, 40])\n",
    "\n",
    "#as a vector operations\n",
    "\n",
    "print(x)\n",
    "print(2*x)\n",
    "print(x**3)\n",
    "print(1/x)"
   ]
  },
  {
   "cell_type": "markdown",
   "id": "95ba7608",
   "metadata": {},
   "source": [
    "There are two ways to make an array"
   ]
  },
  {
   "cell_type": "code",
   "execution_count": 123,
   "id": "adba2b79",
   "metadata": {
    "scrolled": true
   },
   "outputs": [
    {
     "name": "stdout",
     "output_type": "stream",
     "text": [
      "[ 0.          0.52631579  1.05263158  1.57894737  2.10526316  2.63157895\n",
      "  3.15789474  3.68421053  4.21052632  4.73684211  5.26315789  5.78947368\n",
      "  6.31578947  6.84210526  7.36842105  7.89473684  8.42105263  8.94736842\n",
      "  9.47368421 10.        ]\n"
     ]
    }
   ],
   "source": [
    "x = np.linspace(0, 10, 20)\n",
    "print(x)"
   ]
  },
  {
   "cell_type": "code",
   "execution_count": 128,
   "id": "0910801e",
   "metadata": {},
   "outputs": [
    {
     "name": "stdout",
     "output_type": "stream",
     "text": [
      "[0 1 2 3 4 5 6 7 8 9]\n"
     ]
    }
   ],
   "source": [
    "x = np.arange(0, 10, 1)\n",
    "print(x)"
   ]
  }
 ],
 "metadata": {
  "kernelspec": {
   "display_name": "Python 3 (ipykernel)",
   "language": "python",
   "name": "python3"
  },
  "language_info": {
   "codemirror_mode": {
    "name": "ipython",
    "version": 3
   },
   "file_extension": ".py",
   "mimetype": "text/x-python",
   "name": "python",
   "nbconvert_exporter": "python",
   "pygments_lexer": "ipython3",
   "version": "3.10.7"
  }
 },
 "nbformat": 4,
 "nbformat_minor": 5
}
