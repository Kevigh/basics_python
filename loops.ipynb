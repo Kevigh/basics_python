{
 "cells": [
  {
   "cell_type": "markdown",
   "id": "a9ad791a",
   "metadata": {},
   "source": [
    "**Regular loop**"
   ]
  },
  {
   "cell_type": "code",
   "execution_count": 11,
   "id": "1bb0ad6b",
   "metadata": {},
   "outputs": [
    {
     "name": "stdout",
     "output_type": "stream",
     "text": [
      "0\n",
      "1\n",
      "2\n",
      "3\n",
      "4\n"
     ]
    }
   ],
   "source": [
    "for i in range(5):\n",
    "    print(i)"
   ]
  },
  {
   "cell_type": "code",
   "execution_count": 15,
   "id": "dcbab0ba",
   "metadata": {},
   "outputs": [
    {
     "name": "stdout",
     "output_type": "stream",
     "text": [
      "[0, 1, 4, 9, 16, 25, 36, 49, 64, 81, 100, 121, 144, 169, 196, 225, 256, 289, 324, 361, 400, 441, 484, 529, 576]\n"
     ]
    }
   ],
   "source": [
    "lst = []\n",
    "\n",
    "for i in range(25):\n",
    "    lst.append(i**2)\n",
    "    \n",
    "print(lst)"
   ]
  },
  {
   "cell_type": "markdown",
   "id": "82c904a0",
   "metadata": {},
   "source": [
    "**List loop**"
   ]
  },
  {
   "cell_type": "code",
   "execution_count": 19,
   "id": "64fb9e4c",
   "metadata": {},
   "outputs": [
    {
     "name": "stdout",
     "output_type": "stream",
     "text": [
      "cat 1\n",
      "cat 2\n",
      "cat 3\n"
     ]
    }
   ],
   "source": [
    "lst = ['cat 1', 'cat 2', 'cat 3']\n",
    "\n",
    "for item in lst:\n",
    "    print(item)"
   ]
  },
  {
   "cell_type": "markdown",
   "id": "239d09ba",
   "metadata": {},
   "source": [
    "**Enumaration loop**"
   ]
  },
  {
   "cell_type": "code",
   "execution_count": 28,
   "id": "0f8fb82a",
   "metadata": {},
   "outputs": [
    {
     "name": "stdout",
     "output_type": "stream",
     "text": [
      "Index 0 contains cat 1\n",
      "Index 1 contains cat 2\n",
      "Index 2 contains cat 3\n"
     ]
    }
   ],
   "source": [
    "lst = ['cat 1', 'cat 2', 'cat 3']\n",
    "\n",
    "for i, item in enumerate(lst):\n",
    "    print('Index {} contains {}'.format(i, item))"
   ]
  },
  {
   "cell_type": "markdown",
   "id": "9d2ee0fd",
   "metadata": {},
   "source": [
    "**List comprehension loop**"
   ]
  },
  {
   "cell_type": "code",
   "execution_count": 30,
   "id": "a9ce7afc",
   "metadata": {},
   "outputs": [
    {
     "name": "stdout",
     "output_type": "stream",
     "text": [
      "[0, 1, 4, 9, 16, 25, 36, 49, 64, 81, 100, 121, 144, 169, 196, 225, 256, 289, 324, 361, 400]\n"
     ]
    }
   ],
   "source": [
    "lst = [i**2 for i in range(21)]\n",
    "\n",
    "print(lst)"
   ]
  },
  {
   "cell_type": "markdown",
   "id": "0dea0265",
   "metadata": {},
   "source": [
    "**Double *for* loop**"
   ]
  },
  {
   "cell_type": "code",
   "execution_count": 31,
   "id": "220e3a52",
   "metadata": {},
   "outputs": [
    {
     "name": "stdout",
     "output_type": "stream",
     "text": [
      "[0,0]\n",
      "[0,1]\n",
      "[0,2]\n",
      "[0,3]\n",
      "[0,4]\n",
      "[1,0]\n",
      "[1,1]\n",
      "[1,2]\n",
      "[1,3]\n",
      "[1,4]\n",
      "[2,0]\n",
      "[2,1]\n",
      "[2,2]\n",
      "[2,3]\n",
      "[2,4]\n",
      "[3,0]\n",
      "[3,1]\n",
      "[3,2]\n",
      "[3,3]\n",
      "[3,4]\n",
      "[4,0]\n",
      "[4,1]\n",
      "[4,2]\n",
      "[4,3]\n",
      "[4,4]\n"
     ]
    }
   ],
   "source": [
    "for i in range(5):\n",
    "    for j in range(5):\n",
    "        print('[{},{}]'.format(i,j))"
   ]
  },
  {
   "cell_type": "markdown",
   "id": "a3876f7b",
   "metadata": {},
   "source": [
    "**Booleans and *if* statements**"
   ]
  },
  {
   "cell_type": "code",
   "execution_count": 32,
   "id": "69eb3c0e",
   "metadata": {},
   "outputs": [],
   "source": [
    "a = True\n",
    "b = False"
   ]
  },
  {
   "cell_type": "code",
   "execution_count": 33,
   "id": "d4244011",
   "metadata": {},
   "outputs": [
    {
     "data": {
      "text/plain": [
       "True"
      ]
     },
     "execution_count": 33,
     "metadata": {},
     "output_type": "execute_result"
    }
   ],
   "source": [
    "a or b"
   ]
  },
  {
   "cell_type": "code",
   "execution_count": 34,
   "id": "661b630f",
   "metadata": {},
   "outputs": [
    {
     "data": {
      "text/plain": [
       "False"
      ]
     },
     "execution_count": 34,
     "metadata": {},
     "output_type": "execute_result"
    }
   ],
   "source": [
    "a and b"
   ]
  },
  {
   "cell_type": "code",
   "execution_count": 35,
   "id": "7ed3b3ca",
   "metadata": {},
   "outputs": [
    {
     "data": {
      "text/plain": [
       "True"
      ]
     },
     "execution_count": 35,
     "metadata": {},
     "output_type": "execute_result"
    }
   ],
   "source": [
    "not(b)"
   ]
  },
  {
   "cell_type": "code",
   "execution_count": 43,
   "id": "5a634d86",
   "metadata": {},
   "outputs": [
    {
     "name": "stdout",
     "output_type": "stream",
     "text": [
      "maybe\n"
     ]
    }
   ],
   "source": [
    "if (a and b):\n",
    "    print('yes')\n",
    "\n",
    "elif (a or b):\n",
    "    print('maybe')\n",
    "\n",
    "else:\n",
    "    print('no')"
   ]
  }
 ],
 "metadata": {
  "kernelspec": {
   "display_name": "Python 3 (ipykernel)",
   "language": "python",
   "name": "python3"
  },
  "language_info": {
   "codemirror_mode": {
    "name": "ipython",
    "version": 3
   },
   "file_extension": ".py",
   "mimetype": "text/x-python",
   "name": "python",
   "nbconvert_exporter": "python",
   "pygments_lexer": "ipython3",
   "version": "3.10.7"
  }
 },
 "nbformat": 4,
 "nbformat_minor": 5
}
